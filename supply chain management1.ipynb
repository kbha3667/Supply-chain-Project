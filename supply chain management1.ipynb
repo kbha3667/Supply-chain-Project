{
 "cells": [
  {
   "cell_type": "code",
   "execution_count": 1,
   "id": "3e364483",
   "metadata": {},
   "outputs": [],
   "source": [
    "# IMPORTING IMPORTANT LIBRARIES\n",
    "\n",
    "import numpy as np\n",
    "import pandas as pd\n",
    "import matplotlib.pyplot as plt\n",
    "import seaborn as sns\n",
    "sns.set()\n",
    "%matplotlib inline\n",
    "import os ,sys\n",
    "import warnings\n",
    "warnings.filterwarnings('ignore')\n",
    "from datetime import datetime\n",
    "from sklearn.model_selection import train_test_split\n",
    "import scipy\n"
   ]
  },
  {
   "cell_type": "code",
   "execution_count": 2,
   "id": "219e92b5",
   "metadata": {},
   "outputs": [],
   "source": [
    "# IMPORTING THE DATASET"
   ]
  },
  {
   "cell_type": "code",
   "execution_count": 3,
   "id": "e874c258",
   "metadata": {},
   "outputs": [],
   "source": [
    "data=pd.read_csv('Data.csv')"
   ]
  },
  {
   "cell_type": "code",
   "execution_count": 4,
   "id": "454f3e04",
   "metadata": {},
   "outputs": [
    {
     "data": {
      "text/html": [
       "<div>\n",
       "<style scoped>\n",
       "    .dataframe tbody tr th:only-of-type {\n",
       "        vertical-align: middle;\n",
       "    }\n",
       "\n",
       "    .dataframe tbody tr th {\n",
       "        vertical-align: top;\n",
       "    }\n",
       "\n",
       "    .dataframe thead th {\n",
       "        text-align: right;\n",
       "    }\n",
       "</style>\n",
       "<table border=\"1\" class=\"dataframe\">\n",
       "  <thead>\n",
       "    <tr style=\"text-align: right;\">\n",
       "      <th></th>\n",
       "      <th>Ware_house_ID</th>\n",
       "      <th>WH_Manager_ID</th>\n",
       "      <th>Location_type</th>\n",
       "      <th>WH_capacity_size</th>\n",
       "      <th>zone</th>\n",
       "      <th>WH_regional_zone</th>\n",
       "      <th>num_refill_req_l3m</th>\n",
       "      <th>transport_issue_l1y</th>\n",
       "      <th>Competitor_in_mkt</th>\n",
       "      <th>retail_shop_num</th>\n",
       "      <th>...</th>\n",
       "      <th>electric_supply</th>\n",
       "      <th>dist_from_hub</th>\n",
       "      <th>workers_num</th>\n",
       "      <th>wh_est_year</th>\n",
       "      <th>storage_issue_reported_l3m</th>\n",
       "      <th>temp_reg_mach</th>\n",
       "      <th>approved_wh_govt_certificate</th>\n",
       "      <th>wh_breakdown_l3m</th>\n",
       "      <th>govt_check_l3m</th>\n",
       "      <th>product_wg_ton</th>\n",
       "    </tr>\n",
       "  </thead>\n",
       "  <tbody>\n",
       "    <tr>\n",
       "      <th>0</th>\n",
       "      <td>WH_100000</td>\n",
       "      <td>EID_50000</td>\n",
       "      <td>Urban</td>\n",
       "      <td>Small</td>\n",
       "      <td>West</td>\n",
       "      <td>Zone 6</td>\n",
       "      <td>3</td>\n",
       "      <td>1</td>\n",
       "      <td>2</td>\n",
       "      <td>4651</td>\n",
       "      <td>...</td>\n",
       "      <td>1</td>\n",
       "      <td>91</td>\n",
       "      <td>29.0</td>\n",
       "      <td>NaN</td>\n",
       "      <td>13</td>\n",
       "      <td>0</td>\n",
       "      <td>A</td>\n",
       "      <td>5</td>\n",
       "      <td>15</td>\n",
       "      <td>17115</td>\n",
       "    </tr>\n",
       "    <tr>\n",
       "      <th>1</th>\n",
       "      <td>WH_100001</td>\n",
       "      <td>EID_50001</td>\n",
       "      <td>Rural</td>\n",
       "      <td>Large</td>\n",
       "      <td>North</td>\n",
       "      <td>Zone 5</td>\n",
       "      <td>0</td>\n",
       "      <td>0</td>\n",
       "      <td>4</td>\n",
       "      <td>6217</td>\n",
       "      <td>...</td>\n",
       "      <td>1</td>\n",
       "      <td>210</td>\n",
       "      <td>31.0</td>\n",
       "      <td>NaN</td>\n",
       "      <td>4</td>\n",
       "      <td>0</td>\n",
       "      <td>A</td>\n",
       "      <td>3</td>\n",
       "      <td>17</td>\n",
       "      <td>5074</td>\n",
       "    </tr>\n",
       "    <tr>\n",
       "      <th>2</th>\n",
       "      <td>WH_100002</td>\n",
       "      <td>EID_50002</td>\n",
       "      <td>Rural</td>\n",
       "      <td>Mid</td>\n",
       "      <td>South</td>\n",
       "      <td>Zone 2</td>\n",
       "      <td>1</td>\n",
       "      <td>0</td>\n",
       "      <td>4</td>\n",
       "      <td>4306</td>\n",
       "      <td>...</td>\n",
       "      <td>0</td>\n",
       "      <td>161</td>\n",
       "      <td>37.0</td>\n",
       "      <td>NaN</td>\n",
       "      <td>17</td>\n",
       "      <td>0</td>\n",
       "      <td>A</td>\n",
       "      <td>6</td>\n",
       "      <td>22</td>\n",
       "      <td>23137</td>\n",
       "    </tr>\n",
       "    <tr>\n",
       "      <th>3</th>\n",
       "      <td>WH_100003</td>\n",
       "      <td>EID_50003</td>\n",
       "      <td>Rural</td>\n",
       "      <td>Mid</td>\n",
       "      <td>North</td>\n",
       "      <td>Zone 3</td>\n",
       "      <td>7</td>\n",
       "      <td>4</td>\n",
       "      <td>2</td>\n",
       "      <td>6000</td>\n",
       "      <td>...</td>\n",
       "      <td>0</td>\n",
       "      <td>103</td>\n",
       "      <td>21.0</td>\n",
       "      <td>NaN</td>\n",
       "      <td>17</td>\n",
       "      <td>1</td>\n",
       "      <td>A+</td>\n",
       "      <td>3</td>\n",
       "      <td>27</td>\n",
       "      <td>22115</td>\n",
       "    </tr>\n",
       "    <tr>\n",
       "      <th>4</th>\n",
       "      <td>WH_100004</td>\n",
       "      <td>EID_50004</td>\n",
       "      <td>Rural</td>\n",
       "      <td>Large</td>\n",
       "      <td>North</td>\n",
       "      <td>Zone 5</td>\n",
       "      <td>3</td>\n",
       "      <td>1</td>\n",
       "      <td>2</td>\n",
       "      <td>4740</td>\n",
       "      <td>...</td>\n",
       "      <td>1</td>\n",
       "      <td>112</td>\n",
       "      <td>25.0</td>\n",
       "      <td>2009.0</td>\n",
       "      <td>18</td>\n",
       "      <td>0</td>\n",
       "      <td>C</td>\n",
       "      <td>6</td>\n",
       "      <td>24</td>\n",
       "      <td>24071</td>\n",
       "    </tr>\n",
       "  </tbody>\n",
       "</table>\n",
       "<p>5 rows × 24 columns</p>\n",
       "</div>"
      ],
      "text/plain": [
       "  Ware_house_ID WH_Manager_ID Location_type WH_capacity_size   zone  \\\n",
       "0     WH_100000     EID_50000         Urban            Small   West   \n",
       "1     WH_100001     EID_50001         Rural            Large  North   \n",
       "2     WH_100002     EID_50002         Rural              Mid  South   \n",
       "3     WH_100003     EID_50003         Rural              Mid  North   \n",
       "4     WH_100004     EID_50004         Rural            Large  North   \n",
       "\n",
       "  WH_regional_zone  num_refill_req_l3m  transport_issue_l1y  \\\n",
       "0           Zone 6                   3                    1   \n",
       "1           Zone 5                   0                    0   \n",
       "2           Zone 2                   1                    0   \n",
       "3           Zone 3                   7                    4   \n",
       "4           Zone 5                   3                    1   \n",
       "\n",
       "   Competitor_in_mkt  retail_shop_num  ... electric_supply  dist_from_hub  \\\n",
       "0                  2             4651  ...               1             91   \n",
       "1                  4             6217  ...               1            210   \n",
       "2                  4             4306  ...               0            161   \n",
       "3                  2             6000  ...               0            103   \n",
       "4                  2             4740  ...               1            112   \n",
       "\n",
       "   workers_num  wh_est_year  storage_issue_reported_l3m  temp_reg_mach  \\\n",
       "0         29.0          NaN                          13              0   \n",
       "1         31.0          NaN                           4              0   \n",
       "2         37.0          NaN                          17              0   \n",
       "3         21.0          NaN                          17              1   \n",
       "4         25.0       2009.0                          18              0   \n",
       "\n",
       "   approved_wh_govt_certificate  wh_breakdown_l3m  govt_check_l3m  \\\n",
       "0                             A                 5              15   \n",
       "1                             A                 3              17   \n",
       "2                             A                 6              22   \n",
       "3                            A+                 3              27   \n",
       "4                             C                 6              24   \n",
       "\n",
       "   product_wg_ton  \n",
       "0           17115  \n",
       "1            5074  \n",
       "2           23137  \n",
       "3           22115  \n",
       "4           24071  \n",
       "\n",
       "[5 rows x 24 columns]"
      ]
     },
     "execution_count": 4,
     "metadata": {},
     "output_type": "execute_result"
    }
   ],
   "source": [
    "data.head()"
   ]
  },
  {
   "cell_type": "markdown",
   "id": "7d08c26a",
   "metadata": {},
   "source": [
    "# EDA"
   ]
  },
  {
   "cell_type": "code",
   "execution_count": 5,
   "id": "9fc7c64e",
   "metadata": {},
   "outputs": [
    {
     "name": "stdout",
     "output_type": "stream",
     "text": [
      "<class 'pandas.core.frame.DataFrame'>\n",
      "RangeIndex: 25000 entries, 0 to 24999\n",
      "Data columns (total 24 columns):\n",
      " #   Column                        Non-Null Count  Dtype  \n",
      "---  ------                        --------------  -----  \n",
      " 0   Ware_house_ID                 25000 non-null  object \n",
      " 1   WH_Manager_ID                 25000 non-null  object \n",
      " 2   Location_type                 25000 non-null  object \n",
      " 3   WH_capacity_size              25000 non-null  object \n",
      " 4   zone                          25000 non-null  object \n",
      " 5   WH_regional_zone              25000 non-null  object \n",
      " 6   num_refill_req_l3m            25000 non-null  int64  \n",
      " 7   transport_issue_l1y           25000 non-null  int64  \n",
      " 8   Competitor_in_mkt             25000 non-null  int64  \n",
      " 9   retail_shop_num               25000 non-null  int64  \n",
      " 10  wh_owner_type                 25000 non-null  object \n",
      " 11  distributor_num               25000 non-null  int64  \n",
      " 12  flood_impacted                25000 non-null  int64  \n",
      " 13  flood_proof                   25000 non-null  int64  \n",
      " 14  electric_supply               25000 non-null  int64  \n",
      " 15  dist_from_hub                 25000 non-null  int64  \n",
      " 16  workers_num                   24010 non-null  float64\n",
      " 17  wh_est_year                   13119 non-null  float64\n",
      " 18  storage_issue_reported_l3m    25000 non-null  int64  \n",
      " 19  temp_reg_mach                 25000 non-null  int64  \n",
      " 20  approved_wh_govt_certificate  24092 non-null  object \n",
      " 21  wh_breakdown_l3m              25000 non-null  int64  \n",
      " 22  govt_check_l3m                25000 non-null  int64  \n",
      " 23  product_wg_ton                25000 non-null  int64  \n",
      "dtypes: float64(2), int64(14), object(8)\n",
      "memory usage: 4.6+ MB\n"
     ]
    }
   ],
   "source": [
    "#CHECK DATAFRAME STRUCTURE LIKE COLUMNS AND ITS DATATYPES\n",
    "data.info()"
   ]
  },
  {
   "cell_type": "code",
   "execution_count": 6,
   "id": "486f37fa",
   "metadata": {},
   "outputs": [
    {
     "data": {
      "text/plain": [
       "(25000, 24)"
      ]
     },
     "execution_count": 6,
     "metadata": {},
     "output_type": "execute_result"
    }
   ],
   "source": [
    "# CHECK THE NUM OF ROWS ND COLUMNS\n",
    "data.shape"
   ]
  },
  {
   "cell_type": "code",
   "execution_count": 7,
   "id": "6dce2efd",
   "metadata": {},
   "outputs": [
    {
     "data": {
      "text/html": [
       "<div>\n",
       "<style scoped>\n",
       "    .dataframe tbody tr th:only-of-type {\n",
       "        vertical-align: middle;\n",
       "    }\n",
       "\n",
       "    .dataframe tbody tr th {\n",
       "        vertical-align: top;\n",
       "    }\n",
       "\n",
       "    .dataframe thead th {\n",
       "        text-align: right;\n",
       "    }\n",
       "</style>\n",
       "<table border=\"1\" class=\"dataframe\">\n",
       "  <thead>\n",
       "    <tr style=\"text-align: right;\">\n",
       "      <th></th>\n",
       "      <th>num_refill_req_l3m</th>\n",
       "      <th>transport_issue_l1y</th>\n",
       "      <th>Competitor_in_mkt</th>\n",
       "      <th>retail_shop_num</th>\n",
       "      <th>distributor_num</th>\n",
       "      <th>flood_impacted</th>\n",
       "      <th>flood_proof</th>\n",
       "      <th>electric_supply</th>\n",
       "      <th>dist_from_hub</th>\n",
       "      <th>workers_num</th>\n",
       "      <th>wh_est_year</th>\n",
       "      <th>storage_issue_reported_l3m</th>\n",
       "      <th>temp_reg_mach</th>\n",
       "      <th>wh_breakdown_l3m</th>\n",
       "      <th>govt_check_l3m</th>\n",
       "      <th>product_wg_ton</th>\n",
       "    </tr>\n",
       "  </thead>\n",
       "  <tbody>\n",
       "    <tr>\n",
       "      <th>count</th>\n",
       "      <td>25000.000000</td>\n",
       "      <td>25000.000000</td>\n",
       "      <td>25000.000000</td>\n",
       "      <td>25000.000000</td>\n",
       "      <td>25000.000000</td>\n",
       "      <td>25000.000000</td>\n",
       "      <td>25000.000000</td>\n",
       "      <td>25000.000000</td>\n",
       "      <td>25000.000000</td>\n",
       "      <td>24010.000000</td>\n",
       "      <td>13119.000000</td>\n",
       "      <td>25000.000000</td>\n",
       "      <td>25000.000000</td>\n",
       "      <td>25000.000000</td>\n",
       "      <td>25000.000000</td>\n",
       "      <td>25000.000000</td>\n",
       "    </tr>\n",
       "    <tr>\n",
       "      <th>mean</th>\n",
       "      <td>4.089040</td>\n",
       "      <td>0.773680</td>\n",
       "      <td>3.104200</td>\n",
       "      <td>4985.711560</td>\n",
       "      <td>42.418120</td>\n",
       "      <td>0.098160</td>\n",
       "      <td>0.054640</td>\n",
       "      <td>0.656880</td>\n",
       "      <td>163.537320</td>\n",
       "      <td>28.944398</td>\n",
       "      <td>2009.383185</td>\n",
       "      <td>17.130440</td>\n",
       "      <td>0.303280</td>\n",
       "      <td>3.482040</td>\n",
       "      <td>18.812280</td>\n",
       "      <td>22102.632920</td>\n",
       "    </tr>\n",
       "    <tr>\n",
       "      <th>std</th>\n",
       "      <td>2.606612</td>\n",
       "      <td>1.199449</td>\n",
       "      <td>1.141663</td>\n",
       "      <td>1052.825252</td>\n",
       "      <td>16.064329</td>\n",
       "      <td>0.297537</td>\n",
       "      <td>0.227281</td>\n",
       "      <td>0.474761</td>\n",
       "      <td>62.718609</td>\n",
       "      <td>7.872534</td>\n",
       "      <td>7.528230</td>\n",
       "      <td>9.161108</td>\n",
       "      <td>0.459684</td>\n",
       "      <td>1.690335</td>\n",
       "      <td>8.632382</td>\n",
       "      <td>11607.755077</td>\n",
       "    </tr>\n",
       "    <tr>\n",
       "      <th>min</th>\n",
       "      <td>0.000000</td>\n",
       "      <td>0.000000</td>\n",
       "      <td>0.000000</td>\n",
       "      <td>1821.000000</td>\n",
       "      <td>15.000000</td>\n",
       "      <td>0.000000</td>\n",
       "      <td>0.000000</td>\n",
       "      <td>0.000000</td>\n",
       "      <td>55.000000</td>\n",
       "      <td>10.000000</td>\n",
       "      <td>1996.000000</td>\n",
       "      <td>0.000000</td>\n",
       "      <td>0.000000</td>\n",
       "      <td>0.000000</td>\n",
       "      <td>1.000000</td>\n",
       "      <td>2065.000000</td>\n",
       "    </tr>\n",
       "    <tr>\n",
       "      <th>25%</th>\n",
       "      <td>2.000000</td>\n",
       "      <td>0.000000</td>\n",
       "      <td>2.000000</td>\n",
       "      <td>4313.000000</td>\n",
       "      <td>29.000000</td>\n",
       "      <td>0.000000</td>\n",
       "      <td>0.000000</td>\n",
       "      <td>0.000000</td>\n",
       "      <td>109.000000</td>\n",
       "      <td>24.000000</td>\n",
       "      <td>2003.000000</td>\n",
       "      <td>10.000000</td>\n",
       "      <td>0.000000</td>\n",
       "      <td>2.000000</td>\n",
       "      <td>11.000000</td>\n",
       "      <td>13059.000000</td>\n",
       "    </tr>\n",
       "    <tr>\n",
       "      <th>50%</th>\n",
       "      <td>4.000000</td>\n",
       "      <td>0.000000</td>\n",
       "      <td>3.000000</td>\n",
       "      <td>4859.000000</td>\n",
       "      <td>42.000000</td>\n",
       "      <td>0.000000</td>\n",
       "      <td>0.000000</td>\n",
       "      <td>1.000000</td>\n",
       "      <td>164.000000</td>\n",
       "      <td>28.000000</td>\n",
       "      <td>2009.000000</td>\n",
       "      <td>18.000000</td>\n",
       "      <td>0.000000</td>\n",
       "      <td>3.000000</td>\n",
       "      <td>21.000000</td>\n",
       "      <td>22101.000000</td>\n",
       "    </tr>\n",
       "    <tr>\n",
       "      <th>75%</th>\n",
       "      <td>6.000000</td>\n",
       "      <td>1.000000</td>\n",
       "      <td>4.000000</td>\n",
       "      <td>5500.000000</td>\n",
       "      <td>56.000000</td>\n",
       "      <td>0.000000</td>\n",
       "      <td>0.000000</td>\n",
       "      <td>1.000000</td>\n",
       "      <td>218.000000</td>\n",
       "      <td>33.000000</td>\n",
       "      <td>2016.000000</td>\n",
       "      <td>24.000000</td>\n",
       "      <td>1.000000</td>\n",
       "      <td>5.000000</td>\n",
       "      <td>26.000000</td>\n",
       "      <td>30103.000000</td>\n",
       "    </tr>\n",
       "    <tr>\n",
       "      <th>max</th>\n",
       "      <td>8.000000</td>\n",
       "      <td>5.000000</td>\n",
       "      <td>12.000000</td>\n",
       "      <td>11008.000000</td>\n",
       "      <td>70.000000</td>\n",
       "      <td>1.000000</td>\n",
       "      <td>1.000000</td>\n",
       "      <td>1.000000</td>\n",
       "      <td>271.000000</td>\n",
       "      <td>98.000000</td>\n",
       "      <td>2023.000000</td>\n",
       "      <td>39.000000</td>\n",
       "      <td>1.000000</td>\n",
       "      <td>6.000000</td>\n",
       "      <td>32.000000</td>\n",
       "      <td>55151.000000</td>\n",
       "    </tr>\n",
       "  </tbody>\n",
       "</table>\n",
       "</div>"
      ],
      "text/plain": [
       "       num_refill_req_l3m  transport_issue_l1y  Competitor_in_mkt  \\\n",
       "count        25000.000000         25000.000000       25000.000000   \n",
       "mean             4.089040             0.773680           3.104200   \n",
       "std              2.606612             1.199449           1.141663   \n",
       "min              0.000000             0.000000           0.000000   \n",
       "25%              2.000000             0.000000           2.000000   \n",
       "50%              4.000000             0.000000           3.000000   \n",
       "75%              6.000000             1.000000           4.000000   \n",
       "max              8.000000             5.000000          12.000000   \n",
       "\n",
       "       retail_shop_num  distributor_num  flood_impacted   flood_proof  \\\n",
       "count     25000.000000     25000.000000    25000.000000  25000.000000   \n",
       "mean       4985.711560        42.418120        0.098160      0.054640   \n",
       "std        1052.825252        16.064329        0.297537      0.227281   \n",
       "min        1821.000000        15.000000        0.000000      0.000000   \n",
       "25%        4313.000000        29.000000        0.000000      0.000000   \n",
       "50%        4859.000000        42.000000        0.000000      0.000000   \n",
       "75%        5500.000000        56.000000        0.000000      0.000000   \n",
       "max       11008.000000        70.000000        1.000000      1.000000   \n",
       "\n",
       "       electric_supply  dist_from_hub   workers_num   wh_est_year  \\\n",
       "count     25000.000000   25000.000000  24010.000000  13119.000000   \n",
       "mean          0.656880     163.537320     28.944398   2009.383185   \n",
       "std           0.474761      62.718609      7.872534      7.528230   \n",
       "min           0.000000      55.000000     10.000000   1996.000000   \n",
       "25%           0.000000     109.000000     24.000000   2003.000000   \n",
       "50%           1.000000     164.000000     28.000000   2009.000000   \n",
       "75%           1.000000     218.000000     33.000000   2016.000000   \n",
       "max           1.000000     271.000000     98.000000   2023.000000   \n",
       "\n",
       "       storage_issue_reported_l3m  temp_reg_mach  wh_breakdown_l3m  \\\n",
       "count                25000.000000   25000.000000      25000.000000   \n",
       "mean                    17.130440       0.303280          3.482040   \n",
       "std                      9.161108       0.459684          1.690335   \n",
       "min                      0.000000       0.000000          0.000000   \n",
       "25%                     10.000000       0.000000          2.000000   \n",
       "50%                     18.000000       0.000000          3.000000   \n",
       "75%                     24.000000       1.000000          5.000000   \n",
       "max                     39.000000       1.000000          6.000000   \n",
       "\n",
       "       govt_check_l3m  product_wg_ton  \n",
       "count    25000.000000    25000.000000  \n",
       "mean        18.812280    22102.632920  \n",
       "std          8.632382    11607.755077  \n",
       "min          1.000000     2065.000000  \n",
       "25%         11.000000    13059.000000  \n",
       "50%         21.000000    22101.000000  \n",
       "75%         26.000000    30103.000000  \n",
       "max         32.000000    55151.000000  "
      ]
     },
     "execution_count": 7,
     "metadata": {},
     "output_type": "execute_result"
    }
   ],
   "source": [
    "data.describe()"
   ]
  },
  {
   "cell_type": "code",
   "execution_count": 8,
   "id": "4302583b",
   "metadata": {},
   "outputs": [
    {
     "data": {
      "text/plain": [
       "array([0, 1], dtype=int64)"
      ]
     },
     "execution_count": 8,
     "metadata": {},
     "output_type": "execute_result"
    }
   ],
   "source": [
    "data['flood_impacted'].unique()"
   ]
  },
  {
   "cell_type": "markdown",
   "id": "6e82880c",
   "metadata": {},
   "source": [
    "OBSERVATION: here it can be seen that 0 refers to flood impacted and 1 refers to not flood impacted. \n",
    "as it is 0 and 1 it comes under categorical feature."
   ]
  },
  {
   "cell_type": "code",
   "execution_count": 9,
   "id": "a97212d6",
   "metadata": {},
   "outputs": [
    {
     "data": {
      "text/plain": [
       "array([1, 0], dtype=int64)"
      ]
     },
     "execution_count": 9,
     "metadata": {},
     "output_type": "execute_result"
    }
   ],
   "source": [
    "data['flood_proof'].unique()"
   ]
  },
  {
   "cell_type": "markdown",
   "id": "9f23e42c",
   "metadata": {},
   "source": [
    "OBSERVATION: here it can be seen that 1 refers to flood proof and 0 refers to not flood proof"
   ]
  },
  {
   "cell_type": "code",
   "execution_count": 10,
   "id": "5be45b12",
   "metadata": {},
   "outputs": [
    {
     "data": {
      "text/plain": [
       "<AxesSubplot:xlabel='Location_type', ylabel='count'>"
      ]
     },
     "execution_count": 10,
     "metadata": {},
     "output_type": "execute_result"
    },
    {
     "data": {
      "image/png": "[encoded data removed]",
      "text/plain": [
       "<Figure size 432x288 with 1 Axes>"
      ]
     },
     "metadata": {
      "needs_background": "light"
     },
     "output_type": "display_data"
    }
   ],
   "source": [
    "sns.countplot(data=data, x=\"Location_type\")\n",
    "# OBSERVATION: THERE ARE MORE NO OF WAREHOUSE IN RURAL THAN URBAN."
   ]
  },
  {
   "cell_type": "code",
   "execution_count": 11,
   "id": "e789c4de",
   "metadata": {},
   "outputs": [
    {
     "data": {
      "text/plain": [
       "<AxesSubplot:xlabel='WH_capacity_size', ylabel='count'>"
      ]
     },
     "execution_count": 11,
     "metadata": {},
     "output_type": "execute_result"
    },
    {
     "data": {
      "image/png": "[encoded data removed]",
      "text/plain": [
       "<Figure size 432x288 with 1 Axes>"
      ]
     },
     "metadata": {
      "needs_background": "light"
     },
     "output_type": "display_data"
    }
   ],
   "source": [
    "sns.countplot(data=data, x=\"WH_capacity_size\")\n",
    "#OBSERVATION: THERE ARE LARGE CAPACITY WAREHOUSE MORE THAN SMALL."
   ]
  },
  {
   "cell_type": "code",
   "execution_count": 12,
   "id": "5b60f1cd",
   "metadata": {},
   "outputs": [
    {
     "data": {
      "text/plain": [
       "<AxesSubplot:xlabel='zone', ylabel='count'>"
      ]
     },
     "execution_count": 12,
     "metadata": {},
     "output_type": "execute_result"
    },
    {
     "data": {
      "image/png": "[encoded data removed]",
      "text/plain": [
       "<Figure size 432x288 with 1 Axes>"
      ]
     },
     "metadata": {
      "needs_background": "light"
     },
     "output_type": "display_data"
    }
   ],
   "source": [
    "sns.countplot(data=data, x=\"zone\")\n",
    "#OBSERVATION: THERE ARE VERY LESS NUM OF WAREHOUSE IN EAST REGION AND MAJOR IS IN NORTH ZONE."
   ]
  },
  {
   "cell_type": "code",
   "execution_count": 13,
   "id": "7e3d1a07",
   "metadata": {},
   "outputs": [
    {
     "data": {
      "text/plain": [
       "<AxesSubplot:xlabel='Location_type', ylabel='wh_breakdown_l3m'>"
      ]
     },
     "execution_count": 13,
     "metadata": {},
     "output_type": "execute_result"
    },
    {
     "data": {
      "image/png": "[encoded data removed]",
      "text/plain": [
       "<Figure size 432x288 with 1 Axes>"
      ]
     },
     "metadata": {
      "needs_background": "light"
     },
     "output_type": "display_data"
    }
   ],
   "source": [
    "sns.barplot(data=data, x='Location_type', y='wh_breakdown_l3m',palette='bright')\n",
    "#OBSERVATION: MORE NUM OF BREAKDOWN REPORTED IN URBAN WAREHOUSE."
   ]
  },
  {
   "cell_type": "code",
   "execution_count": 14,
   "id": "608b515d",
   "metadata": {},
   "outputs": [
    {
     "data": {
      "text/plain": [
       "<AxesSubplot:xlabel='transport_issue_l1y', ylabel='product_wg_ton'>"
      ]
     },
     "execution_count": 14,
     "metadata": {},
     "output_type": "execute_result"
    },
    {
     "data": {
      "image/png": "[encoded data removed]",
      "text/plain": [
       "<Figure size 720x288 with 1 Axes>"
      ]
     },
     "metadata": {
      "needs_background": "light"
     },
     "output_type": "display_data"
    }
   ],
   "source": [
    "plt.figure(figsize=(10,4))\n",
    "sns.scatterplot(x='transport_issue_l1y', y='product_wg_ton', data=data)\n",
    "\n",
    "#OBSERVATION: AS IT CAN BE SEEN WHERE THERE IS LESS TRANSPORT ISSUE PRODUCT SHIPPED IS MORE."
   ]
  },
  {
   "cell_type": "code",
   "execution_count": 15,
   "id": "d687406e",
   "metadata": {},
   "outputs": [
    {
     "data": {
      "text/plain": [
       "<AxesSubplot:xlabel='zone', ylabel='retail_shop_num'>"
      ]
     },
     "execution_count": 15,
     "metadata": {},
     "output_type": "execute_result"
    },
    {
     "data": {
      "image/png": "[encoded data removed]",
      "text/plain": [
       "<Figure size 720x288 with 1 Axes>"
      ]
     },
     "metadata": {
      "needs_background": "light"
     },
     "output_type": "display_data"
    }
   ],
   "source": [
    "plt.figure(figsize=(10,4))\n",
    "sns.scatterplot(data=data, x=\"zone\", y=\"retail_shop_num\")\n",
    "\n",
    "#OBSERVATION: as it can be seen the most retail shop that sell the products are from north zone while the least is east zone."
   ]
  },
  {
   "cell_type": "code",
   "execution_count": 16,
   "id": "79ef44b8",
   "metadata": {},
   "outputs": [
    {
     "data": {
      "text/plain": [
       "<AxesSubplot:xlabel='zone', ylabel='workers_num'>"
      ]
     },
     "execution_count": 16,
     "metadata": {},
     "output_type": "execute_result"
    },
    {
     "data": {
      "image/png": "[encoded data removed]",
      "text/plain": [
       "<Figure size 720x288 with 1 Axes>"
      ]
     },
     "metadata": {
      "needs_background": "light"
     },
     "output_type": "display_data"
    }
   ],
   "source": [
    "plt.figure(figsize=(10,4))\n",
    "sns.boxplot(data=data,x=\"zone\", y=\"workers_num\")\n",
    "#observation: It can be seen there is more workers in west, north and south in comaprison to east zone."
   ]
  },
  {
   "cell_type": "code",
   "execution_count": 17,
   "id": "69afd610",
   "metadata": {},
   "outputs": [
    {
     "data": {
      "text/plain": [
       "<AxesSubplot:xlabel='zone', ylabel='product_wg_ton'>"
      ]
     },
     "execution_count": 17,
     "metadata": {},
     "output_type": "execute_result"
    },
    {
     "data": {
      "image/png": "[encoded data removed]",
      "text/plain": [
       "<Figure size 720x288 with 1 Axes>"
      ]
     },
     "metadata": {
      "needs_background": "light"
     },
     "output_type": "display_data"
    }
   ],
   "source": [
    "plt.figure(figsize=(10,4))\n",
    "sns.scatterplot(data=data,x=\"zone\", y=\"product_wg_ton\", palette= 'rocket')\n"
   ]
  },
  {
   "cell_type": "markdown",
   "id": "515cc7bc",
   "metadata": {},
   "source": [
    "# FEATURE ENGINEERING"
   ]
  },
  {
   "cell_type": "code",
   "execution_count": 18,
   "id": "90ea1ea4",
   "metadata": {},
   "outputs": [],
   "source": [
    "data1= data.copy()"
   ]
  },
  {
   "cell_type": "code",
   "execution_count": 19,
   "id": "1691e3f2",
   "metadata": {},
   "outputs": [],
   "source": [
    "# we will drop the features that are not of our use.\n",
    "\n",
    "data1.drop(['WH_Manager_ID','Ware_house_ID'],axis=1,inplace=True)"
   ]
  },
  {
   "cell_type": "code",
   "execution_count": 20,
   "id": "754e2a03",
   "metadata": {},
   "outputs": [
    {
     "data": {
      "text/html": [
       "<div>\n",
       "<style scoped>\n",
       "    .dataframe tbody tr th:only-of-type {\n",
       "        vertical-align: middle;\n",
       "    }\n",
       "\n",
       "    .dataframe tbody tr th {\n",
       "        vertical-align: top;\n",
       "    }\n",
       "\n",
       "    .dataframe thead th {\n",
       "        text-align: right;\n",
       "    }\n",
       "</style>\n",
       "<table border=\"1\" class=\"dataframe\">\n",
       "  <thead>\n",
       "    <tr style=\"text-align: right;\">\n",
       "      <th></th>\n",
       "      <th>Location_type</th>\n",
       "      <th>WH_capacity_size</th>\n",
       "      <th>zone</th>\n",
       "      <th>WH_regional_zone</th>\n",
       "      <th>num_refill_req_l3m</th>\n",
       "      <th>transport_issue_l1y</th>\n",
       "      <th>Competitor_in_mkt</th>\n",
       "      <th>retail_shop_num</th>\n",
       "      <th>wh_owner_type</th>\n",
       "      <th>distributor_num</th>\n",
       "      <th>...</th>\n",
       "      <th>electric_supply</th>\n",
       "      <th>dist_from_hub</th>\n",
       "      <th>workers_num</th>\n",
       "      <th>wh_est_year</th>\n",
       "      <th>storage_issue_reported_l3m</th>\n",
       "      <th>temp_reg_mach</th>\n",
       "      <th>approved_wh_govt_certificate</th>\n",
       "      <th>wh_breakdown_l3m</th>\n",
       "      <th>govt_check_l3m</th>\n",
       "      <th>product_wg_ton</th>\n",
       "    </tr>\n",
       "  </thead>\n",
       "  <tbody>\n",
       "    <tr>\n",
       "      <th>0</th>\n",
       "      <td>Urban</td>\n",
       "      <td>Small</td>\n",
       "      <td>West</td>\n",
       "      <td>Zone 6</td>\n",
       "      <td>3</td>\n",
       "      <td>1</td>\n",
       "      <td>2</td>\n",
       "      <td>4651</td>\n",
       "      <td>Rented</td>\n",
       "      <td>24</td>\n",
       "      <td>...</td>\n",
       "      <td>1</td>\n",
       "      <td>91</td>\n",
       "      <td>29.0</td>\n",
       "      <td>NaN</td>\n",
       "      <td>13</td>\n",
       "      <td>0</td>\n",
       "      <td>A</td>\n",
       "      <td>5</td>\n",
       "      <td>15</td>\n",
       "      <td>17115</td>\n",
       "    </tr>\n",
       "    <tr>\n",
       "      <th>1</th>\n",
       "      <td>Rural</td>\n",
       "      <td>Large</td>\n",
       "      <td>North</td>\n",
       "      <td>Zone 5</td>\n",
       "      <td>0</td>\n",
       "      <td>0</td>\n",
       "      <td>4</td>\n",
       "      <td>6217</td>\n",
       "      <td>Company Owned</td>\n",
       "      <td>47</td>\n",
       "      <td>...</td>\n",
       "      <td>1</td>\n",
       "      <td>210</td>\n",
       "      <td>31.0</td>\n",
       "      <td>NaN</td>\n",
       "      <td>4</td>\n",
       "      <td>0</td>\n",
       "      <td>A</td>\n",
       "      <td>3</td>\n",
       "      <td>17</td>\n",
       "      <td>5074</td>\n",
       "    </tr>\n",
       "  </tbody>\n",
       "</table>\n",
       "<p>2 rows × 22 columns</p>\n",
       "</div>"
      ],
      "text/plain": [
       "  Location_type WH_capacity_size   zone WH_regional_zone  num_refill_req_l3m  \\\n",
       "0         Urban            Small   West           Zone 6                   3   \n",
       "1         Rural            Large  North           Zone 5                   0   \n",
       "\n",
       "   transport_issue_l1y  Competitor_in_mkt  retail_shop_num  wh_owner_type  \\\n",
       "0                    1                  2             4651         Rented   \n",
       "1                    0                  4             6217  Company Owned   \n",
       "\n",
       "   distributor_num  ...  electric_supply  dist_from_hub  workers_num  \\\n",
       "0               24  ...                1             91         29.0   \n",
       "1               47  ...                1            210         31.0   \n",
       "\n",
       "   wh_est_year  storage_issue_reported_l3m  temp_reg_mach  \\\n",
       "0          NaN                          13              0   \n",
       "1          NaN                           4              0   \n",
       "\n",
       "   approved_wh_govt_certificate  wh_breakdown_l3m govt_check_l3m  \\\n",
       "0                             A                 5             15   \n",
       "1                             A                 3             17   \n",
       "\n",
       "   product_wg_ton  \n",
       "0           17115  \n",
       "1            5074  \n",
       "\n",
       "[2 rows x 22 columns]"
      ]
     },
     "execution_count": 20,
     "metadata": {},
     "output_type": "execute_result"
    }
   ],
   "source": [
    "data1.head(2)"
   ]
  },
  {
   "cell_type": "code",
   "execution_count": 21,
   "id": "486027ae",
   "metadata": {},
   "outputs": [
    {
     "name": "stdout",
     "output_type": "stream",
     "text": [
      "Location_type has 0.0 Missing Values\n",
      "WH_capacity_size has 0.0 Missing Values\n",
      "zone has 0.0 Missing Values\n",
      "WH_regional_zone has 0.0 Missing Values\n",
      "num_refill_req_l3m has 0.0 Missing Values\n",
      "transport_issue_l1y has 0.0 Missing Values\n",
      "Competitor_in_mkt has 0.0 Missing Values\n",
      "retail_shop_num has 0.0 Missing Values\n",
      "wh_owner_type has 0.0 Missing Values\n",
      "distributor_num has 0.0 Missing Values\n",
      "flood_impacted has 0.0 Missing Values\n",
      "flood_proof has 0.0 Missing Values\n",
      "electric_supply has 0.0 Missing Values\n",
      "dist_from_hub has 0.0 Missing Values\n",
      "workers_num has 3.9600000000000004 Missing Values\n",
      "wh_est_year has 47.524 Missing Values\n",
      "storage_issue_reported_l3m has 0.0 Missing Values\n",
      "temp_reg_mach has 0.0 Missing Values\n",
      "approved_wh_govt_certificate has 3.6319999999999997 Missing Values\n",
      "wh_breakdown_l3m has 0.0 Missing Values\n",
      "govt_check_l3m has 0.0 Missing Values\n",
      "product_wg_ton has 0.0 Missing Values\n"
     ]
    }
   ],
   "source": [
    "# HANDLING THE MISSING VALUES\n",
    "\n",
    "for columns in data1.columns:\n",
    "    print(columns,'has',data1[columns].isnull().sum()/len(data1)*100,'Missing Values')"
   ]
  },
  {
   "cell_type": "code",
   "execution_count": 22,
   "id": "b76bc52d",
   "metadata": {},
   "outputs": [],
   "source": [
    "# IMPUTING THE MISSING VALUES \n",
    "\n",
    "data1['approved_wh_govt_certificate']= data1['approved_wh_govt_certificate'].fillna(data1['approved_wh_govt_certificate'].mode()[0])"
   ]
  },
  {
   "cell_type": "code",
   "execution_count": 23,
   "id": "6d66bf12",
   "metadata": {},
   "outputs": [],
   "source": [
    "data1['workers_num']=data1['workers_num'].fillna(data1['workers_num'].median())"
   ]
  },
  {
   "cell_type": "code",
   "execution_count": 24,
   "id": "74a659d1",
   "metadata": {},
   "outputs": [],
   "source": [
    "data1= data1.drop(['wh_est_year'],axis=1)"
   ]
  },
  {
   "cell_type": "code",
   "execution_count": 25,
   "id": "9933639c",
   "metadata": {},
   "outputs": [
    {
     "data": {
      "text/plain": [
       "Location_type                   0\n",
       "WH_capacity_size                0\n",
       "zone                            0\n",
       "WH_regional_zone                0\n",
       "num_refill_req_l3m              0\n",
       "transport_issue_l1y             0\n",
       "Competitor_in_mkt               0\n",
       "retail_shop_num                 0\n",
       "wh_owner_type                   0\n",
       "distributor_num                 0\n",
       "flood_impacted                  0\n",
       "flood_proof                     0\n",
       "electric_supply                 0\n",
       "dist_from_hub                   0\n",
       "workers_num                     0\n",
       "storage_issue_reported_l3m      0\n",
       "temp_reg_mach                   0\n",
       "approved_wh_govt_certificate    0\n",
       "wh_breakdown_l3m                0\n",
       "govt_check_l3m                  0\n",
       "product_wg_ton                  0\n",
       "dtype: int64"
      ]
     },
     "execution_count": 25,
     "metadata": {},
     "output_type": "execute_result"
    }
   ],
   "source": [
    "# CHECK FOR MISSING VALUES AFTER IMPUTATION\n",
    "data1.isnull().sum()"
   ]
  },
  {
   "cell_type": "code",
   "execution_count": 26,
   "id": "e7e529c4",
   "metadata": {},
   "outputs": [],
   "source": [
    "# HANDLING THE CATEGORICAL FEATURES\n"
   ]
  },
  {
   "cell_type": "code",
   "execution_count": 27,
   "id": "1a0a8dac",
   "metadata": {},
   "outputs": [],
   "source": [
    "data2=pd.get_dummies(data1,columns=['Location_type','WH_capacity_size','zone','WH_regional_zone','approved_wh_govt_certificate','wh_owner_type'],drop_first=True)"
   ]
  },
  {
   "cell_type": "code",
   "execution_count": 28,
   "id": "f596f2ae",
   "metadata": {},
   "outputs": [
    {
     "data": {
      "text/html": [
       "<div>\n",
       "<style scoped>\n",
       "    .dataframe tbody tr th:only-of-type {\n",
       "        vertical-align: middle;\n",
       "    }\n",
       "\n",
       "    .dataframe tbody tr th {\n",
       "        vertical-align: top;\n",
       "    }\n",
       "\n",
       "    .dataframe thead th {\n",
       "        text-align: right;\n",
       "    }\n",
       "</style>\n",
       "<table border=\"1\" class=\"dataframe\">\n",
       "  <thead>\n",
       "    <tr style=\"text-align: right;\">\n",
       "      <th></th>\n",
       "      <th>num_refill_req_l3m</th>\n",
       "      <th>transport_issue_l1y</th>\n",
       "      <th>Competitor_in_mkt</th>\n",
       "      <th>retail_shop_num</th>\n",
       "      <th>distributor_num</th>\n",
       "      <th>flood_impacted</th>\n",
       "      <th>flood_proof</th>\n",
       "      <th>electric_supply</th>\n",
       "      <th>dist_from_hub</th>\n",
       "      <th>workers_num</th>\n",
       "      <th>...</th>\n",
       "      <th>WH_regional_zone_Zone 2</th>\n",
       "      <th>WH_regional_zone_Zone 3</th>\n",
       "      <th>WH_regional_zone_Zone 4</th>\n",
       "      <th>WH_regional_zone_Zone 5</th>\n",
       "      <th>WH_regional_zone_Zone 6</th>\n",
       "      <th>approved_wh_govt_certificate_A+</th>\n",
       "      <th>approved_wh_govt_certificate_B</th>\n",
       "      <th>approved_wh_govt_certificate_B+</th>\n",
       "      <th>approved_wh_govt_certificate_C</th>\n",
       "      <th>wh_owner_type_Rented</th>\n",
       "    </tr>\n",
       "  </thead>\n",
       "  <tbody>\n",
       "    <tr>\n",
       "      <th>0</th>\n",
       "      <td>3</td>\n",
       "      <td>1</td>\n",
       "      <td>2</td>\n",
       "      <td>4651</td>\n",
       "      <td>24</td>\n",
       "      <td>0</td>\n",
       "      <td>1</td>\n",
       "      <td>1</td>\n",
       "      <td>91</td>\n",
       "      <td>29.0</td>\n",
       "      <td>...</td>\n",
       "      <td>0</td>\n",
       "      <td>0</td>\n",
       "      <td>0</td>\n",
       "      <td>0</td>\n",
       "      <td>1</td>\n",
       "      <td>0</td>\n",
       "      <td>0</td>\n",
       "      <td>0</td>\n",
       "      <td>0</td>\n",
       "      <td>1</td>\n",
       "    </tr>\n",
       "    <tr>\n",
       "      <th>1</th>\n",
       "      <td>0</td>\n",
       "      <td>0</td>\n",
       "      <td>4</td>\n",
       "      <td>6217</td>\n",
       "      <td>47</td>\n",
       "      <td>0</td>\n",
       "      <td>0</td>\n",
       "      <td>1</td>\n",
       "      <td>210</td>\n",
       "      <td>31.0</td>\n",
       "      <td>...</td>\n",
       "      <td>0</td>\n",
       "      <td>0</td>\n",
       "      <td>0</td>\n",
       "      <td>1</td>\n",
       "      <td>0</td>\n",
       "      <td>0</td>\n",
       "      <td>0</td>\n",
       "      <td>0</td>\n",
       "      <td>0</td>\n",
       "      <td>0</td>\n",
       "    </tr>\n",
       "    <tr>\n",
       "      <th>2</th>\n",
       "      <td>1</td>\n",
       "      <td>0</td>\n",
       "      <td>4</td>\n",
       "      <td>4306</td>\n",
       "      <td>64</td>\n",
       "      <td>0</td>\n",
       "      <td>0</td>\n",
       "      <td>0</td>\n",
       "      <td>161</td>\n",
       "      <td>37.0</td>\n",
       "      <td>...</td>\n",
       "      <td>1</td>\n",
       "      <td>0</td>\n",
       "      <td>0</td>\n",
       "      <td>0</td>\n",
       "      <td>0</td>\n",
       "      <td>0</td>\n",
       "      <td>0</td>\n",
       "      <td>0</td>\n",
       "      <td>0</td>\n",
       "      <td>0</td>\n",
       "    </tr>\n",
       "    <tr>\n",
       "      <th>3</th>\n",
       "      <td>7</td>\n",
       "      <td>4</td>\n",
       "      <td>2</td>\n",
       "      <td>6000</td>\n",
       "      <td>50</td>\n",
       "      <td>0</td>\n",
       "      <td>0</td>\n",
       "      <td>0</td>\n",
       "      <td>103</td>\n",
       "      <td>21.0</td>\n",
       "      <td>...</td>\n",
       "      <td>0</td>\n",
       "      <td>1</td>\n",
       "      <td>0</td>\n",
       "      <td>0</td>\n",
       "      <td>0</td>\n",
       "      <td>1</td>\n",
       "      <td>0</td>\n",
       "      <td>0</td>\n",
       "      <td>0</td>\n",
       "      <td>1</td>\n",
       "    </tr>\n",
       "    <tr>\n",
       "      <th>4</th>\n",
       "      <td>3</td>\n",
       "      <td>1</td>\n",
       "      <td>2</td>\n",
       "      <td>4740</td>\n",
       "      <td>42</td>\n",
       "      <td>1</td>\n",
       "      <td>0</td>\n",
       "      <td>1</td>\n",
       "      <td>112</td>\n",
       "      <td>25.0</td>\n",
       "      <td>...</td>\n",
       "      <td>0</td>\n",
       "      <td>0</td>\n",
       "      <td>0</td>\n",
       "      <td>1</td>\n",
       "      <td>0</td>\n",
       "      <td>0</td>\n",
       "      <td>0</td>\n",
       "      <td>0</td>\n",
       "      <td>1</td>\n",
       "      <td>0</td>\n",
       "    </tr>\n",
       "    <tr>\n",
       "      <th>...</th>\n",
       "      <td>...</td>\n",
       "      <td>...</td>\n",
       "      <td>...</td>\n",
       "      <td>...</td>\n",
       "      <td>...</td>\n",
       "      <td>...</td>\n",
       "      <td>...</td>\n",
       "      <td>...</td>\n",
       "      <td>...</td>\n",
       "      <td>...</td>\n",
       "      <td>...</td>\n",
       "      <td>...</td>\n",
       "      <td>...</td>\n",
       "      <td>...</td>\n",
       "      <td>...</td>\n",
       "      <td>...</td>\n",
       "      <td>...</td>\n",
       "      <td>...</td>\n",
       "      <td>...</td>\n",
       "      <td>...</td>\n",
       "      <td>...</td>\n",
       "    </tr>\n",
       "    <tr>\n",
       "      <th>24995</th>\n",
       "      <td>3</td>\n",
       "      <td>0</td>\n",
       "      <td>4</td>\n",
       "      <td>5390</td>\n",
       "      <td>19</td>\n",
       "      <td>0</td>\n",
       "      <td>0</td>\n",
       "      <td>1</td>\n",
       "      <td>142</td>\n",
       "      <td>34.0</td>\n",
       "      <td>...</td>\n",
       "      <td>0</td>\n",
       "      <td>0</td>\n",
       "      <td>0</td>\n",
       "      <td>0</td>\n",
       "      <td>0</td>\n",
       "      <td>0</td>\n",
       "      <td>0</td>\n",
       "      <td>0</td>\n",
       "      <td>0</td>\n",
       "      <td>1</td>\n",
       "    </tr>\n",
       "    <tr>\n",
       "      <th>24996</th>\n",
       "      <td>6</td>\n",
       "      <td>0</td>\n",
       "      <td>4</td>\n",
       "      <td>4490</td>\n",
       "      <td>57</td>\n",
       "      <td>0</td>\n",
       "      <td>0</td>\n",
       "      <td>1</td>\n",
       "      <td>130</td>\n",
       "      <td>28.0</td>\n",
       "      <td>...</td>\n",
       "      <td>1</td>\n",
       "      <td>0</td>\n",
       "      <td>0</td>\n",
       "      <td>0</td>\n",
       "      <td>0</td>\n",
       "      <td>0</td>\n",
       "      <td>1</td>\n",
       "      <td>0</td>\n",
       "      <td>0</td>\n",
       "      <td>0</td>\n",
       "    </tr>\n",
       "    <tr>\n",
       "      <th>24997</th>\n",
       "      <td>7</td>\n",
       "      <td>0</td>\n",
       "      <td>2</td>\n",
       "      <td>5403</td>\n",
       "      <td>31</td>\n",
       "      <td>1</td>\n",
       "      <td>0</td>\n",
       "      <td>1</td>\n",
       "      <td>147</td>\n",
       "      <td>28.0</td>\n",
       "      <td>...</td>\n",
       "      <td>0</td>\n",
       "      <td>0</td>\n",
       "      <td>0</td>\n",
       "      <td>1</td>\n",
       "      <td>0</td>\n",
       "      <td>0</td>\n",
       "      <td>0</td>\n",
       "      <td>1</td>\n",
       "      <td>0</td>\n",
       "      <td>1</td>\n",
       "    </tr>\n",
       "    <tr>\n",
       "      <th>24998</th>\n",
       "      <td>1</td>\n",
       "      <td>0</td>\n",
       "      <td>2</td>\n",
       "      <td>10562</td>\n",
       "      <td>25</td>\n",
       "      <td>0</td>\n",
       "      <td>0</td>\n",
       "      <td>1</td>\n",
       "      <td>60</td>\n",
       "      <td>25.0</td>\n",
       "      <td>...</td>\n",
       "      <td>0</td>\n",
       "      <td>0</td>\n",
       "      <td>0</td>\n",
       "      <td>0</td>\n",
       "      <td>0</td>\n",
       "      <td>0</td>\n",
       "      <td>0</td>\n",
       "      <td>0</td>\n",
       "      <td>0</td>\n",
       "      <td>1</td>\n",
       "    </tr>\n",
       "    <tr>\n",
       "      <th>24999</th>\n",
       "      <td>8</td>\n",
       "      <td>2</td>\n",
       "      <td>4</td>\n",
       "      <td>5664</td>\n",
       "      <td>21</td>\n",
       "      <td>0</td>\n",
       "      <td>1</td>\n",
       "      <td>1</td>\n",
       "      <td>239</td>\n",
       "      <td>39.0</td>\n",
       "      <td>...</td>\n",
       "      <td>0</td>\n",
       "      <td>0</td>\n",
       "      <td>1</td>\n",
       "      <td>0</td>\n",
       "      <td>0</td>\n",
       "      <td>0</td>\n",
       "      <td>0</td>\n",
       "      <td>1</td>\n",
       "      <td>0</td>\n",
       "      <td>0</td>\n",
       "    </tr>\n",
       "  </tbody>\n",
       "</table>\n",
       "<p>25000 rows × 31 columns</p>\n",
       "</div>"
      ],
      "text/plain": [
       "       num_refill_req_l3m  transport_issue_l1y  Competitor_in_mkt  \\\n",
       "0                       3                    1                  2   \n",
       "1                       0                    0                  4   \n",
       "2                       1                    0                  4   \n",
       "3                       7                    4                  2   \n",
       "4                       3                    1                  2   \n",
       "...                   ...                  ...                ...   \n",
       "24995                   3                    0                  4   \n",
       "24996                   6                    0                  4   \n",
       "24997                   7                    0                  2   \n",
       "24998                   1                    0                  2   \n",
       "24999                   8                    2                  4   \n",
       "\n",
       "       retail_shop_num  distributor_num  flood_impacted  flood_proof  \\\n",
       "0                 4651               24               0            1   \n",
       "1                 6217               47               0            0   \n",
       "2                 4306               64               0            0   \n",
       "3                 6000               50               0            0   \n",
       "4                 4740               42               1            0   \n",
       "...                ...              ...             ...          ...   \n",
       "24995             5390               19               0            0   \n",
       "24996             4490               57               0            0   \n",
       "24997             5403               31               1            0   \n",
       "24998            10562               25               0            0   \n",
       "24999             5664               21               0            1   \n",
       "\n",
       "       electric_supply  dist_from_hub  workers_num  ...  \\\n",
       "0                    1             91         29.0  ...   \n",
       "1                    1            210         31.0  ...   \n",
       "2                    0            161         37.0  ...   \n",
       "3                    0            103         21.0  ...   \n",
       "4                    1            112         25.0  ...   \n",
       "...                ...            ...          ...  ...   \n",
       "24995                1            142         34.0  ...   \n",
       "24996                1            130         28.0  ...   \n",
       "24997                1            147         28.0  ...   \n",
       "24998                1             60         25.0  ...   \n",
       "24999                1            239         39.0  ...   \n",
       "\n",
       "       WH_regional_zone_Zone 2  WH_regional_zone_Zone 3  \\\n",
       "0                            0                        0   \n",
       "1                            0                        0   \n",
       "2                            1                        0   \n",
       "3                            0                        1   \n",
       "4                            0                        0   \n",
       "...                        ...                      ...   \n",
       "24995                        0                        0   \n",
       "24996                        1                        0   \n",
       "24997                        0                        0   \n",
       "24998                        0                        0   \n",
       "24999                        0                        0   \n",
       "\n",
       "       WH_regional_zone_Zone 4  WH_regional_zone_Zone 5  \\\n",
       "0                            0                        0   \n",
       "1                            0                        1   \n",
       "2                            0                        0   \n",
       "3                            0                        0   \n",
       "4                            0                        1   \n",
       "...                        ...                      ...   \n",
       "24995                        0                        0   \n",
       "24996                        0                        0   \n",
       "24997                        0                        1   \n",
       "24998                        0                        0   \n",
       "24999                        1                        0   \n",
       "\n",
       "       WH_regional_zone_Zone 6  approved_wh_govt_certificate_A+  \\\n",
       "0                            1                                0   \n",
       "1                            0                                0   \n",
       "2                            0                                0   \n",
       "3                            0                                1   \n",
       "4                            0                                0   \n",
       "...                        ...                              ...   \n",
       "24995                        0                                0   \n",
       "24996                        0                                0   \n",
       "24997                        0                                0   \n",
       "24998                        0                                0   \n",
       "24999                        0                                0   \n",
       "\n",
       "       approved_wh_govt_certificate_B  approved_wh_govt_certificate_B+  \\\n",
       "0                                   0                                0   \n",
       "1                                   0                                0   \n",
       "2                                   0                                0   \n",
       "3                                   0                                0   \n",
       "4                                   0                                0   \n",
       "...                               ...                              ...   \n",
       "24995                               0                                0   \n",
       "24996                               1                                0   \n",
       "24997                               0                                1   \n",
       "24998                               0                                0   \n",
       "24999                               0                                1   \n",
       "\n",
       "       approved_wh_govt_certificate_C  wh_owner_type_Rented  \n",
       "0                                   0                     1  \n",
       "1                                   0                     0  \n",
       "2                                   0                     0  \n",
       "3                                   0                     1  \n",
       "4                                   1                     0  \n",
       "...                               ...                   ...  \n",
       "24995                               0                     1  \n",
       "24996                               0                     0  \n",
       "24997                               0                     1  \n",
       "24998                               0                     1  \n",
       "24999                               0                     0  \n",
       "\n",
       "[25000 rows x 31 columns]"
      ]
     },
     "execution_count": 28,
     "metadata": {},
     "output_type": "execute_result"
    }
   ],
   "source": [
    "data2"
   ]
  },
  {
   "cell_type": "code",
   "execution_count": 29,
   "id": "03c7f1cb",
   "metadata": {},
   "outputs": [],
   "source": [
    "# concat the data2 with original data\n",
    "\n",
    "data1=pd.concat([data1,data2],axis=1)"
   ]
  },
  {
   "cell_type": "code",
   "execution_count": 30,
   "id": "39237161",
   "metadata": {},
   "outputs": [],
   "source": [
    "# dropping the columns which are converted to categorical features.\n",
    "\n",
    "data1=data1.drop(['Location_type','WH_capacity_size','zone','WH_regional_zone','approved_wh_govt_certificate','wh_owner_type'],axis=1)"
   ]
  },
  {
   "cell_type": "code",
   "execution_count": 31,
   "id": "141397db",
   "metadata": {},
   "outputs": [
    {
     "data": {
      "text/html": [
       "<div>\n",
       "<style scoped>\n",
       "    .dataframe tbody tr th:only-of-type {\n",
       "        vertical-align: middle;\n",
       "    }\n",
       "\n",
       "    .dataframe tbody tr th {\n",
       "        vertical-align: top;\n",
       "    }\n",
       "\n",
       "    .dataframe thead th {\n",
       "        text-align: right;\n",
       "    }\n",
       "</style>\n",
       "<table border=\"1\" class=\"dataframe\">\n",
       "  <thead>\n",
       "    <tr style=\"text-align: right;\">\n",
       "      <th></th>\n",
       "      <th>num_refill_req_l3m</th>\n",
       "      <th>transport_issue_l1y</th>\n",
       "      <th>Competitor_in_mkt</th>\n",
       "      <th>retail_shop_num</th>\n",
       "      <th>distributor_num</th>\n",
       "      <th>flood_impacted</th>\n",
       "      <th>flood_proof</th>\n",
       "      <th>electric_supply</th>\n",
       "      <th>dist_from_hub</th>\n",
       "      <th>workers_num</th>\n",
       "      <th>...</th>\n",
       "      <th>WH_regional_zone_Zone 2</th>\n",
       "      <th>WH_regional_zone_Zone 3</th>\n",
       "      <th>WH_regional_zone_Zone 4</th>\n",
       "      <th>WH_regional_zone_Zone 5</th>\n",
       "      <th>WH_regional_zone_Zone 6</th>\n",
       "      <th>approved_wh_govt_certificate_A+</th>\n",
       "      <th>approved_wh_govt_certificate_B</th>\n",
       "      <th>approved_wh_govt_certificate_B+</th>\n",
       "      <th>approved_wh_govt_certificate_C</th>\n",
       "      <th>wh_owner_type_Rented</th>\n",
       "    </tr>\n",
       "  </thead>\n",
       "  <tbody>\n",
       "    <tr>\n",
       "      <th>0</th>\n",
       "      <td>3</td>\n",
       "      <td>1</td>\n",
       "      <td>2</td>\n",
       "      <td>4651</td>\n",
       "      <td>24</td>\n",
       "      <td>0</td>\n",
       "      <td>1</td>\n",
       "      <td>1</td>\n",
       "      <td>91</td>\n",
       "      <td>29.0</td>\n",
       "      <td>...</td>\n",
       "      <td>0</td>\n",
       "      <td>0</td>\n",
       "      <td>0</td>\n",
       "      <td>0</td>\n",
       "      <td>1</td>\n",
       "      <td>0</td>\n",
       "      <td>0</td>\n",
       "      <td>0</td>\n",
       "      <td>0</td>\n",
       "      <td>1</td>\n",
       "    </tr>\n",
       "    <tr>\n",
       "      <th>1</th>\n",
       "      <td>0</td>\n",
       "      <td>0</td>\n",
       "      <td>4</td>\n",
       "      <td>6217</td>\n",
       "      <td>47</td>\n",
       "      <td>0</td>\n",
       "      <td>0</td>\n",
       "      <td>1</td>\n",
       "      <td>210</td>\n",
       "      <td>31.0</td>\n",
       "      <td>...</td>\n",
       "      <td>0</td>\n",
       "      <td>0</td>\n",
       "      <td>0</td>\n",
       "      <td>1</td>\n",
       "      <td>0</td>\n",
       "      <td>0</td>\n",
       "      <td>0</td>\n",
       "      <td>0</td>\n",
       "      <td>0</td>\n",
       "      <td>0</td>\n",
       "    </tr>\n",
       "    <tr>\n",
       "      <th>2</th>\n",
       "      <td>1</td>\n",
       "      <td>0</td>\n",
       "      <td>4</td>\n",
       "      <td>4306</td>\n",
       "      <td>64</td>\n",
       "      <td>0</td>\n",
       "      <td>0</td>\n",
       "      <td>0</td>\n",
       "      <td>161</td>\n",
       "      <td>37.0</td>\n",
       "      <td>...</td>\n",
       "      <td>1</td>\n",
       "      <td>0</td>\n",
       "      <td>0</td>\n",
       "      <td>0</td>\n",
       "      <td>0</td>\n",
       "      <td>0</td>\n",
       "      <td>0</td>\n",
       "      <td>0</td>\n",
       "      <td>0</td>\n",
       "      <td>0</td>\n",
       "    </tr>\n",
       "    <tr>\n",
       "      <th>3</th>\n",
       "      <td>7</td>\n",
       "      <td>4</td>\n",
       "      <td>2</td>\n",
       "      <td>6000</td>\n",
       "      <td>50</td>\n",
       "      <td>0</td>\n",
       "      <td>0</td>\n",
       "      <td>0</td>\n",
       "      <td>103</td>\n",
       "      <td>21.0</td>\n",
       "      <td>...</td>\n",
       "      <td>0</td>\n",
       "      <td>1</td>\n",
       "      <td>0</td>\n",
       "      <td>0</td>\n",
       "      <td>0</td>\n",
       "      <td>1</td>\n",
       "      <td>0</td>\n",
       "      <td>0</td>\n",
       "      <td>0</td>\n",
       "      <td>1</td>\n",
       "    </tr>\n",
       "    <tr>\n",
       "      <th>4</th>\n",
       "      <td>3</td>\n",
       "      <td>1</td>\n",
       "      <td>2</td>\n",
       "      <td>4740</td>\n",
       "      <td>42</td>\n",
       "      <td>1</td>\n",
       "      <td>0</td>\n",
       "      <td>1</td>\n",
       "      <td>112</td>\n",
       "      <td>25.0</td>\n",
       "      <td>...</td>\n",
       "      <td>0</td>\n",
       "      <td>0</td>\n",
       "      <td>0</td>\n",
       "      <td>1</td>\n",
       "      <td>0</td>\n",
       "      <td>0</td>\n",
       "      <td>0</td>\n",
       "      <td>0</td>\n",
       "      <td>1</td>\n",
       "      <td>0</td>\n",
       "    </tr>\n",
       "    <tr>\n",
       "      <th>...</th>\n",
       "      <td>...</td>\n",
       "      <td>...</td>\n",
       "      <td>...</td>\n",
       "      <td>...</td>\n",
       "      <td>...</td>\n",
       "      <td>...</td>\n",
       "      <td>...</td>\n",
       "      <td>...</td>\n",
       "      <td>...</td>\n",
       "      <td>...</td>\n",
       "      <td>...</td>\n",
       "      <td>...</td>\n",
       "      <td>...</td>\n",
       "      <td>...</td>\n",
       "      <td>...</td>\n",
       "      <td>...</td>\n",
       "      <td>...</td>\n",
       "      <td>...</td>\n",
       "      <td>...</td>\n",
       "      <td>...</td>\n",
       "      <td>...</td>\n",
       "    </tr>\n",
       "    <tr>\n",
       "      <th>24995</th>\n",
       "      <td>3</td>\n",
       "      <td>0</td>\n",
       "      <td>4</td>\n",
       "      <td>5390</td>\n",
       "      <td>19</td>\n",
       "      <td>0</td>\n",
       "      <td>0</td>\n",
       "      <td>1</td>\n",
       "      <td>142</td>\n",
       "      <td>34.0</td>\n",
       "      <td>...</td>\n",
       "      <td>0</td>\n",
       "      <td>0</td>\n",
       "      <td>0</td>\n",
       "      <td>0</td>\n",
       "      <td>0</td>\n",
       "      <td>0</td>\n",
       "      <td>0</td>\n",
       "      <td>0</td>\n",
       "      <td>0</td>\n",
       "      <td>1</td>\n",
       "    </tr>\n",
       "    <tr>\n",
       "      <th>24996</th>\n",
       "      <td>6</td>\n",
       "      <td>0</td>\n",
       "      <td>4</td>\n",
       "      <td>4490</td>\n",
       "      <td>57</td>\n",
       "      <td>0</td>\n",
       "      <td>0</td>\n",
       "      <td>1</td>\n",
       "      <td>130</td>\n",
       "      <td>28.0</td>\n",
       "      <td>...</td>\n",
       "      <td>1</td>\n",
       "      <td>0</td>\n",
       "      <td>0</td>\n",
       "      <td>0</td>\n",
       "      <td>0</td>\n",
       "      <td>0</td>\n",
       "      <td>1</td>\n",
       "      <td>0</td>\n",
       "      <td>0</td>\n",
       "      <td>0</td>\n",
       "    </tr>\n",
       "    <tr>\n",
       "      <th>24997</th>\n",
       "      <td>7</td>\n",
       "      <td>0</td>\n",
       "      <td>2</td>\n",
       "      <td>5403</td>\n",
       "      <td>31</td>\n",
       "      <td>1</td>\n",
       "      <td>0</td>\n",
       "      <td>1</td>\n",
       "      <td>147</td>\n",
       "      <td>28.0</td>\n",
       "      <td>...</td>\n",
       "      <td>0</td>\n",
       "      <td>0</td>\n",
       "      <td>0</td>\n",
       "      <td>1</td>\n",
       "      <td>0</td>\n",
       "      <td>0</td>\n",
       "      <td>0</td>\n",
       "      <td>1</td>\n",
       "      <td>0</td>\n",
       "      <td>1</td>\n",
       "    </tr>\n",
       "    <tr>\n",
       "      <th>24998</th>\n",
       "      <td>1</td>\n",
       "      <td>0</td>\n",
       "      <td>2</td>\n",
       "      <td>10562</td>\n",
       "      <td>25</td>\n",
       "      <td>0</td>\n",
       "      <td>0</td>\n",
       "      <td>1</td>\n",
       "      <td>60</td>\n",
       "      <td>25.0</td>\n",
       "      <td>...</td>\n",
       "      <td>0</td>\n",
       "      <td>0</td>\n",
       "      <td>0</td>\n",
       "      <td>0</td>\n",
       "      <td>0</td>\n",
       "      <td>0</td>\n",
       "      <td>0</td>\n",
       "      <td>0</td>\n",
       "      <td>0</td>\n",
       "      <td>1</td>\n",
       "    </tr>\n",
       "    <tr>\n",
       "      <th>24999</th>\n",
       "      <td>8</td>\n",
       "      <td>2</td>\n",
       "      <td>4</td>\n",
       "      <td>5664</td>\n",
       "      <td>21</td>\n",
       "      <td>0</td>\n",
       "      <td>1</td>\n",
       "      <td>1</td>\n",
       "      <td>239</td>\n",
       "      <td>39.0</td>\n",
       "      <td>...</td>\n",
       "      <td>0</td>\n",
       "      <td>0</td>\n",
       "      <td>1</td>\n",
       "      <td>0</td>\n",
       "      <td>0</td>\n",
       "      <td>0</td>\n",
       "      <td>0</td>\n",
       "      <td>1</td>\n",
       "      <td>0</td>\n",
       "      <td>0</td>\n",
       "    </tr>\n",
       "  </tbody>\n",
       "</table>\n",
       "<p>25000 rows × 46 columns</p>\n",
       "</div>"
      ],
      "text/plain": [
       "       num_refill_req_l3m  transport_issue_l1y  Competitor_in_mkt  \\\n",
       "0                       3                    1                  2   \n",
       "1                       0                    0                  4   \n",
       "2                       1                    0                  4   \n",
       "3                       7                    4                  2   \n",
       "4                       3                    1                  2   \n",
       "...                   ...                  ...                ...   \n",
       "24995                   3                    0                  4   \n",
       "24996                   6                    0                  4   \n",
       "24997                   7                    0                  2   \n",
       "24998                   1                    0                  2   \n",
       "24999                   8                    2                  4   \n",
       "\n",
       "       retail_shop_num  distributor_num  flood_impacted  flood_proof  \\\n",
       "0                 4651               24               0            1   \n",
       "1                 6217               47               0            0   \n",
       "2                 4306               64               0            0   \n",
       "3                 6000               50               0            0   \n",
       "4                 4740               42               1            0   \n",
       "...                ...              ...             ...          ...   \n",
       "24995             5390               19               0            0   \n",
       "24996             4490               57               0            0   \n",
       "24997             5403               31               1            0   \n",
       "24998            10562               25               0            0   \n",
       "24999             5664               21               0            1   \n",
       "\n",
       "       electric_supply  dist_from_hub  workers_num  ...  \\\n",
       "0                    1             91         29.0  ...   \n",
       "1                    1            210         31.0  ...   \n",
       "2                    0            161         37.0  ...   \n",
       "3                    0            103         21.0  ...   \n",
       "4                    1            112         25.0  ...   \n",
       "...                ...            ...          ...  ...   \n",
       "24995                1            142         34.0  ...   \n",
       "24996                1            130         28.0  ...   \n",
       "24997                1            147         28.0  ...   \n",
       "24998                1             60         25.0  ...   \n",
       "24999                1            239         39.0  ...   \n",
       "\n",
       "       WH_regional_zone_Zone 2  WH_regional_zone_Zone 3  \\\n",
       "0                            0                        0   \n",
       "1                            0                        0   \n",
       "2                            1                        0   \n",
       "3                            0                        1   \n",
       "4                            0                        0   \n",
       "...                        ...                      ...   \n",
       "24995                        0                        0   \n",
       "24996                        1                        0   \n",
       "24997                        0                        0   \n",
       "24998                        0                        0   \n",
       "24999                        0                        0   \n",
       "\n",
       "       WH_regional_zone_Zone 4  WH_regional_zone_Zone 5  \\\n",
       "0                            0                        0   \n",
       "1                            0                        1   \n",
       "2                            0                        0   \n",
       "3                            0                        0   \n",
       "4                            0                        1   \n",
       "...                        ...                      ...   \n",
       "24995                        0                        0   \n",
       "24996                        0                        0   \n",
       "24997                        0                        1   \n",
       "24998                        0                        0   \n",
       "24999                        1                        0   \n",
       "\n",
       "       WH_regional_zone_Zone 6  approved_wh_govt_certificate_A+  \\\n",
       "0                            1                                0   \n",
       "1                            0                                0   \n",
       "2                            0                                0   \n",
       "3                            0                                1   \n",
       "4                            0                                0   \n",
       "...                        ...                              ...   \n",
       "24995                        0                                0   \n",
       "24996                        0                                0   \n",
       "24997                        0                                0   \n",
       "24998                        0                                0   \n",
       "24999                        0                                0   \n",
       "\n",
       "       approved_wh_govt_certificate_B  approved_wh_govt_certificate_B+  \\\n",
       "0                                   0                                0   \n",
       "1                                   0                                0   \n",
       "2                                   0                                0   \n",
       "3                                   0                                0   \n",
       "4                                   0                                0   \n",
       "...                               ...                              ...   \n",
       "24995                               0                                0   \n",
       "24996                               1                                0   \n",
       "24997                               0                                1   \n",
       "24998                               0                                0   \n",
       "24999                               0                                1   \n",
       "\n",
       "       approved_wh_govt_certificate_C  wh_owner_type_Rented  \n",
       "0                                   0                     1  \n",
       "1                                   0                     0  \n",
       "2                                   0                     0  \n",
       "3                                   0                     1  \n",
       "4                                   1                     0  \n",
       "...                               ...                   ...  \n",
       "24995                               0                     1  \n",
       "24996                               0                     0  \n",
       "24997                               0                     1  \n",
       "24998                               0                     1  \n",
       "24999                               0                     0  \n",
       "\n",
       "[25000 rows x 46 columns]"
      ]
     },
     "execution_count": 31,
     "metadata": {},
     "output_type": "execute_result"
    }
   ],
   "source": [
    "data1"
   ]
  },
  {
   "cell_type": "markdown",
   "id": "90d31c7b",
   "metadata": {},
   "source": [
    "# SPLIT THE DATASET INTO TRAINING AND TEST SET"
   ]
  },
  {
   "cell_type": "code",
   "execution_count": 32,
   "id": "5b4acf8f",
   "metadata": {},
   "outputs": [],
   "source": [
    "# SPLIT THE DATASET INTO FEATURES AND LABEL\n",
    "x= data1.drop(['product_wg_ton'],axis=1)\n",
    "y=data1['product_wg_ton']"
   ]
  },
  {
   "cell_type": "code",
   "execution_count": 33,
   "id": "74eb5806",
   "metadata": {},
   "outputs": [],
   "source": [
    "from sklearn.model_selection import train_test_split"
   ]
  },
  {
   "cell_type": "code",
   "execution_count": 34,
   "id": "c44ee5ac",
   "metadata": {},
   "outputs": [],
   "source": [
    "X_train, X_test, y_train, y_test = train_test_split(x,y, test_size=0.2, random_state=125)\n"
   ]
  },
  {
   "cell_type": "code",
   "execution_count": 35,
   "id": "311245fb",
   "metadata": {},
   "outputs": [
    {
     "data": {
      "text/plain": [
       "20000"
      ]
     },
     "execution_count": 35,
     "metadata": {},
     "output_type": "execute_result"
    }
   ],
   "source": [
    "len(X_train)"
   ]
  },
  {
   "cell_type": "code",
   "execution_count": 36,
   "id": "7976b494",
   "metadata": {},
   "outputs": [
    {
     "data": {
      "text/plain": [
       "5000"
      ]
     },
     "execution_count": 36,
     "metadata": {},
     "output_type": "execute_result"
    }
   ],
   "source": [
    "len(X_test)"
   ]
  },
  {
   "cell_type": "markdown",
   "id": "33b4c43c",
   "metadata": {},
   "source": [
    "## FEATURE SCALING"
   ]
  },
  {
   "cell_type": "code",
   "execution_count": 37,
   "id": "0e9b0fa5",
   "metadata": {},
   "outputs": [],
   "source": [
    "#from sklearn.preprocessing import StandardScaler"
   ]
  },
  {
   "cell_type": "code",
   "execution_count": 37,
   "id": "d7c5acf0",
   "metadata": {},
   "outputs": [],
   "source": [
    "#scaler=StandardScaler()\n",
    "#x_train1=scaler.fit_transform(X_train)\n",
    "#x_test1=scaler.fit_transform(X_test)"
   ]
  },
  {
   "cell_type": "code",
   "execution_count": null,
   "id": "14e22a18",
   "metadata": {},
   "outputs": [],
   "source": []
  },
  {
   "cell_type": "markdown",
   "id": "18772cb0",
   "metadata": {},
   "source": [
    "# MODEL BUILDING"
   ]
  },
  {
   "cell_type": "code",
   "execution_count": 38,
   "id": "4460c7a7",
   "metadata": {},
   "outputs": [],
   "source": [
    "from sklearn.linear_model import LinearRegression\n",
    "from sklearn.pipeline import Pipeline\n",
    "from sklearn.metrics import r2_score , mean_absolute_error\n",
    "from sklearn.ensemble import RandomForestRegressor"
   ]
  },
  {
   "cell_type": "markdown",
   "id": "e555a1f3",
   "metadata": {},
   "source": [
    "## LINEAR REGRESSION"
   ]
  },
  {
   "cell_type": "code",
   "execution_count": 39,
   "id": "3df99b78",
   "metadata": {},
   "outputs": [
    {
     "data": {
      "text/html": [
       "<style>#sk-container-id-1 {color: black;background-color: white;}#sk-container-id-1 pre{padding: 0;}#sk-container-id-1 div.sk-toggleable {background-color: white;}#sk-container-id-1 label.sk-toggleable__label {cursor: pointer;display: block;width: 100%;margin-bottom: 0;padding: 0.3em;box-sizing: border-box;text-align: center;}#sk-container-id-1 label.sk-toggleable__label-arrow:before {content: \"▸\";float: left;margin-right: 0.25em;color: #696969;}#sk-container-id-1 label.sk-toggleable__label-arrow:hover:before {color: black;}#sk-container-id-1 div.sk-estimator:hover label.sk-toggleable__label-arrow:before {color: black;}#sk-container-id-1 div.sk-toggleable__content {max-height: 0;max-width: 0;overflow: hidden;text-align: left;background-color: #f0f8ff;}#sk-container-id-1 div.sk-toggleable__content pre {margin: 0.2em;color: black;border-radius: 0.25em;background-color: #f0f8ff;}#sk-container-id-1 input.sk-toggleable__control:checked~div.sk-toggleable__content {max-height: 200px;max-width: 100%;overflow: auto;}#sk-container-id-1 input.sk-toggleable__control:checked~label.sk-toggleable__label-arrow:before {content: \"▾\";}#sk-container-id-1 div.sk-estimator input.sk-toggleable__control:checked~label.sk-toggleable__label {background-color: #d4ebff;}#sk-container-id-1 div.sk-label input.sk-toggleable__control:checked~label.sk-toggleable__label {background-color: #d4ebff;}#sk-container-id-1 input.sk-hidden--visually {border: 0;clip: rect(1px 1px 1px 1px);clip: rect(1px, 1px, 1px, 1px);height: 1px;margin: -1px;overflow: hidden;padding: 0;position: absolute;width: 1px;}#sk-container-id-1 div.sk-estimator {font-family: monospace;background-color: #f0f8ff;border: 1px dotted black;border-radius: 0.25em;box-sizing: border-box;margin-bottom: 0.5em;}#sk-container-id-1 div.sk-estimator:hover {background-color: #d4ebff;}#sk-container-id-1 div.sk-parallel-item::after {content: \"\";width: 100%;border-bottom: 1px solid gray;flex-grow: 1;}#sk-container-id-1 div.sk-label:hover label.sk-toggleable__label {background-color: #d4ebff;}#sk-container-id-1 div.sk-serial::before {content: \"\";position: absolute;border-left: 1px solid gray;box-sizing: border-box;top: 0;bottom: 0;left: 50%;z-index: 0;}#sk-container-id-1 div.sk-serial {display: flex;flex-direction: column;align-items: center;background-color: white;padding-right: 0.2em;padding-left: 0.2em;position: relative;}#sk-container-id-1 div.sk-item {position: relative;z-index: 1;}#sk-container-id-1 div.sk-parallel {display: flex;align-items: stretch;justify-content: center;background-color: white;position: relative;}#sk-container-id-1 div.sk-item::before, #sk-container-id-1 div.sk-parallel-item::before {content: \"\";position: absolute;border-left: 1px solid gray;box-sizing: border-box;top: 0;bottom: 0;left: 50%;z-index: -1;}#sk-container-id-1 div.sk-parallel-item {display: flex;flex-direction: column;z-index: 1;position: relative;background-color: white;}#sk-container-id-1 div.sk-parallel-item:first-child::after {align-self: flex-end;width: 50%;}#sk-container-id-1 div.sk-parallel-item:last-child::after {align-self: flex-start;width: 50%;}#sk-container-id-1 div.sk-parallel-item:only-child::after {width: 0;}#sk-container-id-1 div.sk-dashed-wrapped {border: 1px dashed gray;margin: 0 0.4em 0.5em 0.4em;box-sizing: border-box;padding-bottom: 0.4em;background-color: white;}#sk-container-id-1 div.sk-label label {font-family: monospace;font-weight: bold;display: inline-block;line-height: 1.2em;}#sk-container-id-1 div.sk-label-container {text-align: center;}#sk-container-id-1 div.sk-container {/* jupyter's `normalize.less` sets `[hidden] { display: none; }` but bootstrap.min.css set `[hidden] { display: none !important; }` so we also need the `!important` here to be able to override the default hidden behavior on the sphinx rendered scikit-learn.org. See: https://github.com/scikit-learn/scikit-learn/issues/21755 */display: inline-block !important;position: relative;}#sk-container-id-1 div.sk-text-repr-fallback {display: none;}</style><div id=\"sk-container-id-1\" class=\"sk-top-container\"><div class=\"sk-text-repr-fallback\"><pre>LinearRegression()</pre><b>In a Jupyter environment, please rerun this cell to show the HTML representation or trust the notebook. <br />On GitHub, the HTML representation is unable to render, please try loading this page with nbviewer.org.</b></div><div class=\"sk-container\" hidden><div class=\"sk-item\"><div class=\"sk-estimator sk-toggleable\"><input class=\"sk-toggleable__control sk-hidden--visually\" id=\"sk-estimator-id-1\" type=\"checkbox\" checked><label for=\"sk-estimator-id-1\" class=\"sk-toggleable__label sk-toggleable__label-arrow\">LinearRegression</label><div class=\"sk-toggleable__content\"><pre>LinearRegression()</pre></div></div></div></div></div>"
      ],
      "text/plain": [
       "LinearRegression()"
      ]
     },
     "execution_count": 39,
     "metadata": {},
     "output_type": "execute_result"
    }
   ],
   "source": [
    "lr=LinearRegression()\n",
    "lr.fit(X_train,y_train)"
   ]
  },
  {
   "cell_type": "code",
   "execution_count": 40,
   "id": "f00a45c4",
   "metadata": {},
   "outputs": [
    {
     "name": "stdout",
     "output_type": "stream",
     "text": [
      "R2_score 0.9855607770942411\n",
      "***************************************\n",
      "MAE 1010.8096765122227\n"
     ]
    }
   ],
   "source": [
    "y_pred_lr= lr.predict(X_train)\n",
    "print(\"R2_score\",r2_score(y_train,y_pred_lr))\n",
    "print(\"***************************************\")\n",
    "print(\"MAE\",mean_absolute_error(y_train,y_pred_lr))"
   ]
  },
  {
   "cell_type": "code",
   "execution_count": 41,
   "id": "41ba53ff",
   "metadata": {},
   "outputs": [
    {
     "name": "stdout",
     "output_type": "stream",
     "text": [
      "R2_score 0.9859916060081497\n",
      "***************************************\n",
      "MAE 1011.2430145840647\n"
     ]
    }
   ],
   "source": [
    "y_pred_lr= lr.predict(X_test)\n",
    "print(\"R2_score\",r2_score(y_test,y_pred_lr))\n",
    "print(\"***************************************\")\n",
    "print(\"MAE\",mean_absolute_error(y_test,y_pred_lr))"
   ]
  },
  {
   "cell_type": "markdown",
   "id": "b2a902c0",
   "metadata": {},
   "source": [
    "## RANDOM FOREST"
   ]
  },
  {
   "cell_type": "code",
   "execution_count": 41,
   "id": "1645442c",
   "metadata": {},
   "outputs": [
    {
     "name": "stdout",
     "output_type": "stream",
     "text": [
      "R2_score 0.9932581204346576\n",
      "***************************************\n",
      "MAE 703.3696259999994\n"
     ]
    }
   ],
   "source": [
    "# RANDOM FOREST\n",
    "rf=RandomForestRegressor()\n",
    "rf.fit(x_train1,y_train)\n",
    "y_pred_rf= rf.predict(x_test1)\n",
    "print(\"R2_score\",r2_score(y_test,y_pred_rf))\n",
    "print(\"***************************************\")\n",
    "print(\"MAE\",mean_absolute_error(y_test,y_pred_rf))\n"
   ]
  },
  {
   "cell_type": "code",
   "execution_count": null,
   "id": "cd30cbba",
   "metadata": {},
   "outputs": [],
   "source": []
  }
 ],
 "metadata": {
  "kernelspec": {
   "display_name": "Python 3 (ipykernel)",
   "language": "python",
   "name": "python3"
  },
  "language_info": {
   "codemirror_mode": {
    "name": "ipython",
    "version": 3
   },
   "file_extension": ".py",
   "mimetype": "text/x-python",
   "name": "python",
   "nbconvert_exporter": "python",
   "pygments_lexer": "ipython3",
   "version": "3.9.7"
  }
 },
 "nbformat": 4,
 "nbformat_minor": 5
}
